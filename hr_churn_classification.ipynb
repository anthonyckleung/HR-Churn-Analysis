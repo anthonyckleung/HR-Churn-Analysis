{
  "nbformat": 4,
  "nbformat_minor": 0,
  "metadata": {
    "colab": {
      "name": "hr_churn_classification.ipynb",
      "provenance": [],
      "collapsed_sections": [],
      "toc_visible": true,
      "authorship_tag": "ABX9TyO8veRsbnul/L319UBulYbY"
    },
    "kernelspec": {
      "name": "python3",
      "display_name": "Python 3"
    }
  },
  "cells": [
    {
      "cell_type": "markdown",
      "metadata": {
        "id": "3eSYwoAptTco",
        "colab_type": "text"
      },
      "source": [
        "# HR Churn Analysis"
      ]
    },
    {
      "cell_type": "markdown",
      "metadata": {
        "id": "EJT0uM8wvai5",
        "colab_type": "text"
      },
      "source": [
        "# Import Libraries"
      ]
    },
    {
      "cell_type": "code",
      "metadata": {
        "id": "hAKIYjTUrx7n",
        "colab_type": "code",
        "colab": {}
      },
      "source": [
        "import pandas            as pd\n",
        "import numpy             as np\n",
        "import matplotlib.pyplot as plt\n",
        "import seaborn           as sns\n",
        "\n",
        "plt.rcParams['figure.facecolor'] = 'w' # For Colab in dark mode\n",
        "sns.set()\n",
        "#current_palette = sns.color_palette(\"cubehelix\")\n",
        "#current_palette = sns.color_palette(\"Paired\")\n",
        "#sns.set_palette(current_palette)\n",
        "\n",
        "# Specify the custom font to use\n",
        "\n",
        "plt.rcParams[\"axes.labelweight\"] = \"bold\"\n",
        "\n",
        "# Save path for whatever needs to be output\n",
        "save_path = ''"
      ],
      "execution_count": 0,
      "outputs": []
    },
    {
      "cell_type": "code",
      "metadata": {
        "id": "eikleA0XteGz",
        "colab_type": "code",
        "colab": {}
      },
      "source": [
        "from sklearn.model_selection import train_test_split, GridSearchCV\n",
        "from sklearn.pipeline        import Pipeline\n",
        "from sklearn.preprocessing   import StandardScaler, MinMaxScaler, LabelEncoder\n",
        "from sklearn.compose         import ColumnTransformer\n",
        "from sklearn.metrics         import classification_report\n",
        "\n",
        "from sklearn.linear_model    import LogisticRegression\n",
        "from sklearn.neighbors       import KNeighborsClassifier\n",
        "from sklearn.tree            import DecisionTreeClassifier"
      ],
      "execution_count": 0,
      "outputs": []
    },
    {
      "cell_type": "code",
      "metadata": {
        "id": "f_cuPv26tcqk",
        "colab_type": "code",
        "outputId": "77ae8a4e-24c6-4f25-efe8-01db8c1315be",
        "colab": {
          "base_uri": "https://localhost:8080/",
          "height": 34
        }
      },
      "source": [
        "from google.colab import drive\n",
        "\n",
        "drive.mount('/content/gdrive/', force_remount = False)"
      ],
      "execution_count": 0,
      "outputs": [
        {
          "output_type": "stream",
          "text": [
            "Drive already mounted at /content/gdrive/; to attempt to forcibly remount, call drive.mount(\"/content/gdrive/\", force_remount=True).\n"
          ],
          "name": "stdout"
        }
      ]
    },
    {
      "cell_type": "markdown",
      "metadata": {
        "id": "gs9EP8wOvczV",
        "colab_type": "text"
      },
      "source": [
        "# EDA"
      ]
    },
    {
      "cell_type": "code",
      "metadata": {
        "id": "Lo5JsS7ptZgG",
        "colab_type": "code",
        "colab": {}
      },
      "source": [
        "path = ''"
      ],
      "execution_count": 0,
      "outputs": []
    },
    {
      "cell_type": "code",
      "metadata": {
        "id": "nOg6dfOmtUsz",
        "colab_type": "code",
        "colab": {}
      },
      "source": [
        "df = pd.read_csv(path, index_col=[0])"
      ],
      "execution_count": 0,
      "outputs": []
    },
    {
      "cell_type": "code",
      "metadata": {
        "id": "cmqEbEHIt2c3",
        "colab_type": "code",
        "outputId": "0f742de2-540f-4bb2-b2b2-145197b64ece",
        "colab": {
          "base_uri": "https://localhost:8080/",
          "height": 235
        }
      },
      "source": [
        "df.head()"
      ],
      "execution_count": 0,
      "outputs": [
        {
          "output_type": "execute_result",
          "data": {
            "text/html": [
              "<div>\n",
              "<style scoped>\n",
              "    .dataframe tbody tr th:only-of-type {\n",
              "        vertical-align: middle;\n",
              "    }\n",
              "\n",
              "    .dataframe tbody tr th {\n",
              "        vertical-align: top;\n",
              "    }\n",
              "\n",
              "    .dataframe thead th {\n",
              "        text-align: right;\n",
              "    }\n",
              "</style>\n",
              "<table border=\"1\" class=\"dataframe\">\n",
              "  <thead>\n",
              "    <tr style=\"text-align: right;\">\n",
              "      <th></th>\n",
              "      <th>satisfaction_level</th>\n",
              "      <th>last_evaluation</th>\n",
              "      <th>number_project</th>\n",
              "      <th>average_montly_hours</th>\n",
              "      <th>time_spend_company</th>\n",
              "      <th>Work_accident</th>\n",
              "      <th>churn</th>\n",
              "      <th>promotion_last_5years</th>\n",
              "      <th>sales</th>\n",
              "      <th>salary</th>\n",
              "    </tr>\n",
              "    <tr>\n",
              "      <th>id</th>\n",
              "      <th></th>\n",
              "      <th></th>\n",
              "      <th></th>\n",
              "      <th></th>\n",
              "      <th></th>\n",
              "      <th></th>\n",
              "      <th></th>\n",
              "      <th></th>\n",
              "      <th></th>\n",
              "      <th></th>\n",
              "    </tr>\n",
              "  </thead>\n",
              "  <tbody>\n",
              "    <tr>\n",
              "      <th>0</th>\n",
              "      <td>0.38</td>\n",
              "      <td>0.53</td>\n",
              "      <td>2</td>\n",
              "      <td>157</td>\n",
              "      <td>3</td>\n",
              "      <td>0</td>\n",
              "      <td>1</td>\n",
              "      <td>0</td>\n",
              "      <td>sales</td>\n",
              "      <td>low</td>\n",
              "    </tr>\n",
              "    <tr>\n",
              "      <th>1</th>\n",
              "      <td>0.80</td>\n",
              "      <td>0.86</td>\n",
              "      <td>5</td>\n",
              "      <td>262</td>\n",
              "      <td>6</td>\n",
              "      <td>0</td>\n",
              "      <td>1</td>\n",
              "      <td>0</td>\n",
              "      <td>sales</td>\n",
              "      <td>medium</td>\n",
              "    </tr>\n",
              "    <tr>\n",
              "      <th>2</th>\n",
              "      <td>0.11</td>\n",
              "      <td>0.88</td>\n",
              "      <td>7</td>\n",
              "      <td>272</td>\n",
              "      <td>4</td>\n",
              "      <td>0</td>\n",
              "      <td>1</td>\n",
              "      <td>0</td>\n",
              "      <td>sales</td>\n",
              "      <td>medium</td>\n",
              "    </tr>\n",
              "    <tr>\n",
              "      <th>3</th>\n",
              "      <td>0.72</td>\n",
              "      <td>0.87</td>\n",
              "      <td>5</td>\n",
              "      <td>223</td>\n",
              "      <td>5</td>\n",
              "      <td>0</td>\n",
              "      <td>1</td>\n",
              "      <td>0</td>\n",
              "      <td>sales</td>\n",
              "      <td>low</td>\n",
              "    </tr>\n",
              "    <tr>\n",
              "      <th>4</th>\n",
              "      <td>0.37</td>\n",
              "      <td>0.52</td>\n",
              "      <td>2</td>\n",
              "      <td>159</td>\n",
              "      <td>3</td>\n",
              "      <td>0</td>\n",
              "      <td>1</td>\n",
              "      <td>0</td>\n",
              "      <td>sales</td>\n",
              "      <td>low</td>\n",
              "    </tr>\n",
              "  </tbody>\n",
              "</table>\n",
              "</div>"
            ],
            "text/plain": [
              "    satisfaction_level  last_evaluation  ...  sales  salary\n",
              "id                                       ...               \n",
              "0                 0.38             0.53  ...  sales     low\n",
              "1                 0.80             0.86  ...  sales  medium\n",
              "2                 0.11             0.88  ...  sales  medium\n",
              "3                 0.72             0.87  ...  sales     low\n",
              "4                 0.37             0.52  ...  sales     low\n",
              "\n",
              "[5 rows x 10 columns]"
            ]
          },
          "metadata": {
            "tags": []
          },
          "execution_count": 27
        }
      ]
    },
    {
      "cell_type": "code",
      "metadata": {
        "id": "oqSC4NIXt3KM",
        "colab_type": "code",
        "outputId": "dc9af70a-6c1a-4a5d-e64b-b1308df6bdc3",
        "colab": {
          "base_uri": "https://localhost:8080/",
          "height": 297
        }
      },
      "source": [
        "df.describe()"
      ],
      "execution_count": 0,
      "outputs": [
        {
          "output_type": "execute_result",
          "data": {
            "text/html": [
              "<div>\n",
              "<style scoped>\n",
              "    .dataframe tbody tr th:only-of-type {\n",
              "        vertical-align: middle;\n",
              "    }\n",
              "\n",
              "    .dataframe tbody tr th {\n",
              "        vertical-align: top;\n",
              "    }\n",
              "\n",
              "    .dataframe thead th {\n",
              "        text-align: right;\n",
              "    }\n",
              "</style>\n",
              "<table border=\"1\" class=\"dataframe\">\n",
              "  <thead>\n",
              "    <tr style=\"text-align: right;\">\n",
              "      <th></th>\n",
              "      <th>satisfaction_level</th>\n",
              "      <th>last_evaluation</th>\n",
              "      <th>number_project</th>\n",
              "      <th>average_montly_hours</th>\n",
              "      <th>time_spend_company</th>\n",
              "      <th>Work_accident</th>\n",
              "      <th>churn</th>\n",
              "      <th>promotion_last_5years</th>\n",
              "    </tr>\n",
              "  </thead>\n",
              "  <tbody>\n",
              "    <tr>\n",
              "      <th>count</th>\n",
              "      <td>14999.000000</td>\n",
              "      <td>14999.000000</td>\n",
              "      <td>14999.000000</td>\n",
              "      <td>14999.000000</td>\n",
              "      <td>14999.000000</td>\n",
              "      <td>14999.000000</td>\n",
              "      <td>14999.000000</td>\n",
              "      <td>14999.000000</td>\n",
              "    </tr>\n",
              "    <tr>\n",
              "      <th>mean</th>\n",
              "      <td>0.612834</td>\n",
              "      <td>0.716102</td>\n",
              "      <td>3.803054</td>\n",
              "      <td>201.050337</td>\n",
              "      <td>3.498233</td>\n",
              "      <td>0.144610</td>\n",
              "      <td>0.238083</td>\n",
              "      <td>0.021268</td>\n",
              "    </tr>\n",
              "    <tr>\n",
              "      <th>std</th>\n",
              "      <td>0.248631</td>\n",
              "      <td>0.171169</td>\n",
              "      <td>1.232592</td>\n",
              "      <td>49.943099</td>\n",
              "      <td>1.460136</td>\n",
              "      <td>0.351719</td>\n",
              "      <td>0.425924</td>\n",
              "      <td>0.144281</td>\n",
              "    </tr>\n",
              "    <tr>\n",
              "      <th>min</th>\n",
              "      <td>0.090000</td>\n",
              "      <td>0.360000</td>\n",
              "      <td>2.000000</td>\n",
              "      <td>96.000000</td>\n",
              "      <td>2.000000</td>\n",
              "      <td>0.000000</td>\n",
              "      <td>0.000000</td>\n",
              "      <td>0.000000</td>\n",
              "    </tr>\n",
              "    <tr>\n",
              "      <th>25%</th>\n",
              "      <td>0.440000</td>\n",
              "      <td>0.560000</td>\n",
              "      <td>3.000000</td>\n",
              "      <td>156.000000</td>\n",
              "      <td>3.000000</td>\n",
              "      <td>0.000000</td>\n",
              "      <td>0.000000</td>\n",
              "      <td>0.000000</td>\n",
              "    </tr>\n",
              "    <tr>\n",
              "      <th>50%</th>\n",
              "      <td>0.640000</td>\n",
              "      <td>0.720000</td>\n",
              "      <td>4.000000</td>\n",
              "      <td>200.000000</td>\n",
              "      <td>3.000000</td>\n",
              "      <td>0.000000</td>\n",
              "      <td>0.000000</td>\n",
              "      <td>0.000000</td>\n",
              "    </tr>\n",
              "    <tr>\n",
              "      <th>75%</th>\n",
              "      <td>0.820000</td>\n",
              "      <td>0.870000</td>\n",
              "      <td>5.000000</td>\n",
              "      <td>245.000000</td>\n",
              "      <td>4.000000</td>\n",
              "      <td>0.000000</td>\n",
              "      <td>0.000000</td>\n",
              "      <td>0.000000</td>\n",
              "    </tr>\n",
              "    <tr>\n",
              "      <th>max</th>\n",
              "      <td>1.000000</td>\n",
              "      <td>1.000000</td>\n",
              "      <td>7.000000</td>\n",
              "      <td>310.000000</td>\n",
              "      <td>10.000000</td>\n",
              "      <td>1.000000</td>\n",
              "      <td>1.000000</td>\n",
              "      <td>1.000000</td>\n",
              "    </tr>\n",
              "  </tbody>\n",
              "</table>\n",
              "</div>"
            ],
            "text/plain": [
              "       satisfaction_level  last_evaluation  ...         churn  promotion_last_5years\n",
              "count        14999.000000     14999.000000  ...  14999.000000           14999.000000\n",
              "mean             0.612834         0.716102  ...      0.238083               0.021268\n",
              "std              0.248631         0.171169  ...      0.425924               0.144281\n",
              "min              0.090000         0.360000  ...      0.000000               0.000000\n",
              "25%              0.440000         0.560000  ...      0.000000               0.000000\n",
              "50%              0.640000         0.720000  ...      0.000000               0.000000\n",
              "75%              0.820000         0.870000  ...      0.000000               0.000000\n",
              "max              1.000000         1.000000  ...      1.000000               1.000000\n",
              "\n",
              "[8 rows x 8 columns]"
            ]
          },
          "metadata": {
            "tags": []
          },
          "execution_count": 28
        }
      ]
    },
    {
      "cell_type": "markdown",
      "metadata": {
        "id": "CUGJWdU7wcW4",
        "colab_type": "text"
      },
      "source": [
        " Check for nulls"
      ]
    },
    {
      "cell_type": "code",
      "metadata": {
        "id": "T5A0JIQzweYZ",
        "colab_type": "code",
        "outputId": "1793a42d-c140-4f82-b079-e6a308d9b95c",
        "colab": {
          "base_uri": "https://localhost:8080/",
          "height": 204
        }
      },
      "source": [
        "df.isna().sum()"
      ],
      "execution_count": 0,
      "outputs": [
        {
          "output_type": "execute_result",
          "data": {
            "text/plain": [
              "satisfaction_level       0\n",
              "last_evaluation          0\n",
              "number_project           0\n",
              "average_montly_hours     0\n",
              "time_spend_company       0\n",
              "Work_accident            0\n",
              "churn                    0\n",
              "promotion_last_5years    0\n",
              "sales                    0\n",
              "salary                   0\n",
              "dtype: int64"
            ]
          },
          "metadata": {
            "tags": []
          },
          "execution_count": 29
        }
      ]
    },
    {
      "cell_type": "markdown",
      "metadata": {
        "id": "KRiagis7wjpI",
        "colab_type": "text"
      },
      "source": [
        "**OBSERVATIONS**: No null entries."
      ]
    },
    {
      "cell_type": "markdown",
      "metadata": {
        "id": "NAG8KcdEN9aW",
        "colab_type": "text"
      },
      "source": [
        "Look at correlation matrix for continuous variables."
      ]
    },
    {
      "cell_type": "code",
      "metadata": {
        "id": "k6JDORA5Nwbm",
        "colab_type": "code",
        "outputId": "4ae35aba-1d76-4d9d-c220-178369bee97b",
        "colab": {
          "base_uri": "https://localhost:8080/",
          "height": 673
        }
      },
      "source": [
        "# Compute the correlation matrix\n",
        "corr = df.corr()\n",
        "\n",
        "# Generate a mask for the upper triangle\n",
        "mask = np.triu(np.ones_like(corr, dtype=np.bool))\n",
        "\n",
        "# Set up the matplotlib figure\n",
        "f, ax = plt.subplots(figsize=(11, 9))\n",
        "\n",
        "# Generate a custom diverging colormap\n",
        "cmap = sns.diverging_palette(220, 10, as_cmap=True)\n",
        "\n",
        "# Draw the heatmap with the mask and correct aspect ratio\n",
        "sns.heatmap(corr, mask=mask, cmap=cmap, vmax=.3, center=0,\n",
        "            square=True, linewidths=.5, cbar_kws={\"shrink\": .5})"
      ],
      "execution_count": 0,
      "outputs": [
        {
          "output_type": "execute_result",
          "data": {
            "text/plain": [
              "<matplotlib.axes._subplots.AxesSubplot at 0x7f02f42e1dd8>"
            ]
          },
          "metadata": {
            "tags": []
          },
          "execution_count": 30
        },
        {
          "output_type": "display_data",
          "data": {
            "image/png": "[encoded data removed]",
            "text/plain": [
              "<Figure size 792x648 with 2 Axes>"
            ]
          },
          "metadata": {
            "tags": []
          }
        }
      ]
    },
    {
      "cell_type": "markdown",
      "metadata": {
        "id": "SMvOSawgOInA",
        "colab_type": "text"
      },
      "source": [
        "**OBSERVATIONS**: \n",
        "* The lower the satisfaction level, the more likely the employee will churn.\n",
        "* Occurence of work accident could also contribute to employees churning.\n",
        "* Obviously, more projects lead to longer work hours.\n"
      ]
    },
    {
      "cell_type": "code",
      "metadata": {
        "id": "XYzK7VNzO1q7",
        "colab_type": "code",
        "outputId": "e437bda8-9f00-41e3-889b-c29a42ce473c",
        "colab": {
          "base_uri": "https://localhost:8080/",
          "height": 285
        }
      },
      "source": [
        "df['sales'].value_counts().plot(kind='barh')"
      ],
      "execution_count": 0,
      "outputs": [
        {
          "output_type": "execute_result",
          "data": {
            "text/plain": [
              "<matplotlib.axes._subplots.AxesSubplot at 0x7f02f42e17b8>"
            ]
          },
          "metadata": {
            "tags": []
          },
          "execution_count": 31
        },
        {
          "output_type": "display_data",
          "data": {
            "image/png": "[encoded data removed]",
            "text/plain": [
              "<Figure size 432x288 with 1 Axes>"
            ]
          },
          "metadata": {
            "tags": []
          }
        }
      ]
    },
    {
      "cell_type": "markdown",
      "metadata": {
        "id": "0yaYspibPA0p",
        "colab_type": "text"
      },
      "source": [
        "**OBSERVATIONS**: Most employees in this company are from sales."
      ]
    },
    {
      "cell_type": "markdown",
      "metadata": {
        "id": "PeW2RXvdPI1I",
        "colab_type": "text"
      },
      "source": [
        "Look at how churning is distributed among different departments./"
      ]
    },
    {
      "cell_type": "code",
      "metadata": {
        "id": "S4Xkp0SOPMiS",
        "colab_type": "code",
        "outputId": "a217f2f1-abfc-4732-d479-fb20d6e19c07",
        "colab": {
          "base_uri": "https://localhost:8080/",
          "height": 502
        }
      },
      "source": [
        "df.groupby(['sales'])['churn'].value_counts().unstack().plot(kind='barh', figsize=(12,8))"
      ],
      "execution_count": 0,
      "outputs": [
        {
          "output_type": "execute_result",
          "data": {
            "text/plain": [
              "<matplotlib.axes._subplots.AxesSubplot at 0x7f02f40b94e0>"
            ]
          },
          "metadata": {
            "tags": []
          },
          "execution_count": 32
        },
        {
          "output_type": "display_data",
          "data": {
            "image/png": "[encoded data removed]",
            "text/plain": [
              "<Figure size 864x576 with 1 Axes>"
            ]
          },
          "metadata": {
            "tags": []
          }
        }
      ]
    },
    {
      "cell_type": "markdown",
      "metadata": {
        "id": "UNOkpUwkPapm",
        "colab_type": "text"
      },
      "source": [
        "**OBSERVATIONS**: Most people that have churned are from techinical, support, and sales."
      ]
    },
    {
      "cell_type": "code",
      "metadata": {
        "id": "DXIX7VQJvobv",
        "colab_type": "code",
        "outputId": "31e568b9-254d-428c-f7cd-3dfbe7ac8c44",
        "colab": {
          "base_uri": "https://localhost:8080/",
          "height": 302
        }
      },
      "source": [
        "# Look at the distribution of satisfaction levels\n",
        "sns.distplot(df['satisfaction_level'])\n",
        "plt.xlabel('Satisfaction Level')"
      ],
      "execution_count": 0,
      "outputs": [
        {
          "output_type": "execute_result",
          "data": {
            "text/plain": [
              "Text(0.5, 0, 'Satisfaction Level')"
            ]
          },
          "metadata": {
            "tags": []
          },
          "execution_count": 33
        },
        {
          "output_type": "display_data",
          "data": {
            "image/png": "[encoded data removed]",
            "text/plain": [
              "<Figure size 432x288 with 1 Axes>"
            ]
          },
          "metadata": {
            "tags": []
          }
        }
      ]
    },
    {
      "cell_type": "markdown",
      "metadata": {
        "id": "LlkRfFRzwHj4",
        "colab_type": "text"
      },
      "source": [
        "**OBSERVATIONS**: A wide range of satisfaction from employees."
      ]
    },
    {
      "cell_type": "code",
      "metadata": {
        "id": "eBkf2x3Fv6JN",
        "colab_type": "code",
        "outputId": "de872846-be5d-4458-bd80-f0e2288158ae",
        "colab": {
          "base_uri": "https://localhost:8080/",
          "height": 319
        }
      },
      "source": [
        "# Look at the distribution of the target class: Churn\n",
        "df['churn'].value_counts().plot(kind='bar')\n",
        "plt.xticks((0,1),('No Churn', 'Churn'), rotation=0)"
      ],
      "execution_count": 0,
      "outputs": [
        {
          "output_type": "execute_result",
          "data": {
            "text/plain": [
              "([<matplotlib.axis.XTick at 0x7f02f3f122e8>,\n",
              "  <matplotlib.axis.XTick at 0x7f02f3f12a90>],\n",
              " [Text(0, 0, 'No Churn'), Text(0, 0, 'Churn')])"
            ]
          },
          "metadata": {
            "tags": []
          },
          "execution_count": 34
        },
        {
          "output_type": "display_data",
          "data": {
            "image/png": "[encoded data removed]",
            "text/plain": [
              "<Figure size 432x288 with 1 Axes>"
            ]
          },
          "metadata": {
            "tags": []
          }
        }
      ]
    },
    {
      "cell_type": "markdown",
      "metadata": {
        "id": "MHJkheZsx1KS",
        "colab_type": "text"
      },
      "source": [
        "**OBSERVATIONS**: We can see an imbalance of target classes in this data set."
      ]
    },
    {
      "cell_type": "markdown",
      "metadata": {
        "id": "fBddhWchOh6d",
        "colab_type": "text"
      },
      "source": [
        "# Preprocessing"
      ]
    },
    {
      "cell_type": "markdown",
      "metadata": {
        "id": "2QtClfZsqUM4",
        "colab_type": "text"
      },
      "source": [
        "We note that the categorical variables of `sales` and `salary` need to be encoded."
      ]
    },
    {
      "cell_type": "markdown",
      "metadata": {
        "id": "SmEivfs1sW46",
        "colab_type": "text"
      },
      "source": [
        "Dummy the `sales` variable."
      ]
    },
    {
      "cell_type": "code",
      "metadata": {
        "id": "Ycn4ur8twV9v",
        "colab_type": "code",
        "colab": {}
      },
      "source": [
        "df = pd.get_dummies(df, prefix='dept', columns=['sales'])"
      ],
      "execution_count": 0,
      "outputs": []
    },
    {
      "cell_type": "code",
      "metadata": {
        "id": "M28Ckz4TsJn2",
        "colab_type": "code",
        "outputId": "131eadd7-21ad-4079-e326-4227eb0f3637",
        "colab": {
          "base_uri": "https://localhost:8080/",
          "height": 34
        }
      },
      "source": [
        "df['salary'].unique()"
      ],
      "execution_count": 0,
      "outputs": [
        {
          "output_type": "execute_result",
          "data": {
            "text/plain": [
              "array(['low', 'medium', 'high'], dtype=object)"
            ]
          },
          "metadata": {
            "tags": []
          },
          "execution_count": 36
        }
      ]
    },
    {
      "cell_type": "code",
      "metadata": {
        "id": "BD8Z88nWsxgV",
        "colab_type": "code",
        "colab": {}
      },
      "source": [
        "salary_dict = {'low':-1, 'medium':0, 'high':1}"
      ],
      "execution_count": 0,
      "outputs": []
    },
    {
      "cell_type": "code",
      "metadata": {
        "id": "2Z8Dv-dat8q2",
        "colab_type": "code",
        "colab": {}
      },
      "source": [
        "df['salary'] = df['salary'].map(salary_dict)"
      ],
      "execution_count": 0,
      "outputs": []
    },
    {
      "cell_type": "code",
      "metadata": {
        "id": "3w-JbuiguD4b",
        "colab_type": "code",
        "outputId": "ae59690d-06c5-4b3f-fe91-5dd0833275b8",
        "colab": {
          "base_uri": "https://localhost:8080/",
          "height": 255
        }
      },
      "source": [
        "df.head()"
      ],
      "execution_count": 0,
      "outputs": [
        {
          "output_type": "execute_result",
          "data": {
            "text/html": [
              "<div>\n",
              "<style scoped>\n",
              "    .dataframe tbody tr th:only-of-type {\n",
              "        vertical-align: middle;\n",
              "    }\n",
              "\n",
              "    .dataframe tbody tr th {\n",
              "        vertical-align: top;\n",
              "    }\n",
              "\n",
              "    .dataframe thead th {\n",
              "        text-align: right;\n",
              "    }\n",
              "</style>\n",
              "<table border=\"1\" class=\"dataframe\">\n",
              "  <thead>\n",
              "    <tr style=\"text-align: right;\">\n",
              "      <th></th>\n",
              "      <th>satisfaction_level</th>\n",
              "      <th>last_evaluation</th>\n",
              "      <th>number_project</th>\n",
              "      <th>average_montly_hours</th>\n",
              "      <th>time_spend_company</th>\n",
              "      <th>Work_accident</th>\n",
              "      <th>churn</th>\n",
              "      <th>promotion_last_5years</th>\n",
              "      <th>salary</th>\n",
              "      <th>dept_IT</th>\n",
              "      <th>dept_RandD</th>\n",
              "      <th>dept_accounting</th>\n",
              "      <th>dept_hr</th>\n",
              "      <th>dept_management</th>\n",
              "      <th>dept_marketing</th>\n",
              "      <th>dept_product_mng</th>\n",
              "      <th>dept_sales</th>\n",
              "      <th>dept_support</th>\n",
              "      <th>dept_technical</th>\n",
              "    </tr>\n",
              "    <tr>\n",
              "      <th>id</th>\n",
              "      <th></th>\n",
              "      <th></th>\n",
              "      <th></th>\n",
              "      <th></th>\n",
              "      <th></th>\n",
              "      <th></th>\n",
              "      <th></th>\n",
              "      <th></th>\n",
              "      <th></th>\n",
              "      <th></th>\n",
              "      <th></th>\n",
              "      <th></th>\n",
              "      <th></th>\n",
              "      <th></th>\n",
              "      <th></th>\n",
              "      <th></th>\n",
              "      <th></th>\n",
              "      <th></th>\n",
              "      <th></th>\n",
              "    </tr>\n",
              "  </thead>\n",
              "  <tbody>\n",
              "    <tr>\n",
              "      <th>0</th>\n",
              "      <td>0.38</td>\n",
              "      <td>0.53</td>\n",
              "      <td>2</td>\n",
              "      <td>157</td>\n",
              "      <td>3</td>\n",
              "      <td>0</td>\n",
              "      <td>1</td>\n",
              "      <td>0</td>\n",
              "      <td>-1</td>\n",
              "      <td>0</td>\n",
              "      <td>0</td>\n",
              "      <td>0</td>\n",
              "      <td>0</td>\n",
              "      <td>0</td>\n",
              "      <td>0</td>\n",
              "      <td>0</td>\n",
              "      <td>1</td>\n",
              "      <td>0</td>\n",
              "      <td>0</td>\n",
              "    </tr>\n",
              "    <tr>\n",
              "      <th>1</th>\n",
              "      <td>0.80</td>\n",
              "      <td>0.86</td>\n",
              "      <td>5</td>\n",
              "      <td>262</td>\n",
              "      <td>6</td>\n",
              "      <td>0</td>\n",
              "      <td>1</td>\n",
              "      <td>0</td>\n",
              "      <td>0</td>\n",
              "      <td>0</td>\n",
              "      <td>0</td>\n",
              "      <td>0</td>\n",
              "      <td>0</td>\n",
              "      <td>0</td>\n",
              "      <td>0</td>\n",
              "      <td>0</td>\n",
              "      <td>1</td>\n",
              "      <td>0</td>\n",
              "      <td>0</td>\n",
              "    </tr>\n",
              "    <tr>\n",
              "      <th>2</th>\n",
              "      <td>0.11</td>\n",
              "      <td>0.88</td>\n",
              "      <td>7</td>\n",
              "      <td>272</td>\n",
              "      <td>4</td>\n",
              "      <td>0</td>\n",
              "      <td>1</td>\n",
              "      <td>0</td>\n",
              "      <td>0</td>\n",
              "      <td>0</td>\n",
              "      <td>0</td>\n",
              "      <td>0</td>\n",
              "      <td>0</td>\n",
              "      <td>0</td>\n",
              "      <td>0</td>\n",
              "      <td>0</td>\n",
              "      <td>1</td>\n",
              "      <td>0</td>\n",
              "      <td>0</td>\n",
              "    </tr>\n",
              "    <tr>\n",
              "      <th>3</th>\n",
              "      <td>0.72</td>\n",
              "      <td>0.87</td>\n",
              "      <td>5</td>\n",
              "      <td>223</td>\n",
              "      <td>5</td>\n",
              "      <td>0</td>\n",
              "      <td>1</td>\n",
              "      <td>0</td>\n",
              "      <td>-1</td>\n",
              "      <td>0</td>\n",
              "      <td>0</td>\n",
              "      <td>0</td>\n",
              "      <td>0</td>\n",
              "      <td>0</td>\n",
              "      <td>0</td>\n",
              "      <td>0</td>\n",
              "      <td>1</td>\n",
              "      <td>0</td>\n",
              "      <td>0</td>\n",
              "    </tr>\n",
              "    <tr>\n",
              "      <th>4</th>\n",
              "      <td>0.37</td>\n",
              "      <td>0.52</td>\n",
              "      <td>2</td>\n",
              "      <td>159</td>\n",
              "      <td>3</td>\n",
              "      <td>0</td>\n",
              "      <td>1</td>\n",
              "      <td>0</td>\n",
              "      <td>-1</td>\n",
              "      <td>0</td>\n",
              "      <td>0</td>\n",
              "      <td>0</td>\n",
              "      <td>0</td>\n",
              "      <td>0</td>\n",
              "      <td>0</td>\n",
              "      <td>0</td>\n",
              "      <td>1</td>\n",
              "      <td>0</td>\n",
              "      <td>0</td>\n",
              "    </tr>\n",
              "  </tbody>\n",
              "</table>\n",
              "</div>"
            ],
            "text/plain": [
              "    satisfaction_level  last_evaluation  ...  dept_support  dept_technical\n",
              "id                                       ...                              \n",
              "0                 0.38             0.53  ...             0               0\n",
              "1                 0.80             0.86  ...             0               0\n",
              "2                 0.11             0.88  ...             0               0\n",
              "3                 0.72             0.87  ...             0               0\n",
              "4                 0.37             0.52  ...             0               0\n",
              "\n",
              "[5 rows x 19 columns]"
            ]
          },
          "metadata": {
            "tags": []
          },
          "execution_count": 39
        }
      ]
    },
    {
      "cell_type": "markdown",
      "metadata": {
        "id": "n6rE77yEujPZ",
        "colab_type": "text"
      },
      "source": [
        "Separate the features and the target class."
      ]
    },
    {
      "cell_type": "code",
      "metadata": {
        "id": "yp65RqJMuJZv",
        "colab_type": "code",
        "outputId": "5a95adc3-c802-4298-e050-8814f9801496",
        "colab": {
          "base_uri": "https://localhost:8080/",
          "height": 340
        }
      },
      "source": [
        "df.columns.tolist()"
      ],
      "execution_count": 0,
      "outputs": [
        {
          "output_type": "execute_result",
          "data": {
            "text/plain": [
              "['satisfaction_level',\n",
              " 'last_evaluation',\n",
              " 'number_project',\n",
              " 'average_montly_hours',\n",
              " 'time_spend_company',\n",
              " 'Work_accident',\n",
              " 'churn',\n",
              " 'promotion_last_5years',\n",
              " 'salary',\n",
              " 'dept_IT',\n",
              " 'dept_RandD',\n",
              " 'dept_accounting',\n",
              " 'dept_hr',\n",
              " 'dept_management',\n",
              " 'dept_marketing',\n",
              " 'dept_product_mng',\n",
              " 'dept_sales',\n",
              " 'dept_support',\n",
              " 'dept_technical']"
            ]
          },
          "metadata": {
            "tags": []
          },
          "execution_count": 40
        }
      ]
    },
    {
      "cell_type": "code",
      "metadata": {
        "id": "RA-izD88uqjq",
        "colab_type": "code",
        "colab": {}
      },
      "source": [
        "input_var = [\n",
        "     'satisfaction_level',\n",
        " 'last_evaluation',\n",
        " 'number_project',\n",
        " 'average_montly_hours',\n",
        " 'time_spend_company',\n",
        " 'Work_accident',\n",
        " 'promotion_last_5years',\n",
        " 'salary',\n",
        " 'dept_IT',\n",
        " 'dept_RandD',\n",
        " 'dept_accounting',\n",
        " 'dept_hr',\n",
        " 'dept_management',\n",
        " 'dept_marketing',\n",
        " 'dept_product_mng',\n",
        " 'dept_sales',\n",
        " 'dept_support',\n",
        " 'dept_technical'\n",
        "]\n",
        "\n",
        "output_var = ['churn'] "
      ],
      "execution_count": 0,
      "outputs": []
    },
    {
      "cell_type": "code",
      "metadata": {
        "id": "3IiJd04Ju_he",
        "colab_type": "code",
        "colab": {}
      },
      "source": [
        "X = df[input_var]\n",
        "y = df[output_var]"
      ],
      "execution_count": 0,
      "outputs": []
    },
    {
      "cell_type": "markdown",
      "metadata": {
        "id": "aLjkRlB3vJd8",
        "colab_type": "text"
      },
      "source": [
        "Ensemble models are used for this analysis so there is no need to standardize the values."
      ]
    },
    {
      "cell_type": "markdown",
      "metadata": {
        "id": "ieiRMvUou5IC",
        "colab_type": "text"
      },
      "source": [
        "Train-test split data"
      ]
    },
    {
      "cell_type": "code",
      "metadata": {
        "id": "X9gy5fcsu01p",
        "colab_type": "code",
        "colab": {}
      },
      "source": [
        "X_train, X_test, y_train, y_test = train_test_split(X, y, test_size=0.2)"
      ],
      "execution_count": 0,
      "outputs": []
    },
    {
      "cell_type": "code",
      "metadata": {
        "id": "dLr70MJjvGcP",
        "colab_type": "code",
        "colab": {}
      },
      "source": [
        ""
      ],
      "execution_count": 0,
      "outputs": []
    }
  ]
}